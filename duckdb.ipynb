{
 "cells": [
  {
   "cell_type": "markdown",
   "metadata": {},
   "source": [
    "# Testing out spatial extension in duckdb"
   ]
  },
  {
   "cell_type": "code",
   "execution_count": 1,
   "metadata": {},
   "outputs": [],
   "source": [
    "import duckdb\n",
    "import pandas as pd\n",
    "\n",
    "%load_ext sql\n",
    "conn = duckdb.connect(\"duckdb/database.ddb\")\n",
    "%sql conn --alias duckdb"
   ]
  },
  {
   "cell_type": "markdown",
   "metadata": {},
   "source": [
    "## Install spatial extension"
   ]
  },
  {
   "cell_type": "code",
   "execution_count": 2,
   "metadata": {},
   "outputs": [
    {
     "data": {
      "text/html": [
       "<span style=\"None\">Running query in &#x27;duckdb&#x27;</span>"
      ],
      "text/plain": [
       "Running query in 'duckdb'"
      ]
     },
     "metadata": {},
     "output_type": "display_data"
    },
    {
     "data": {
      "text/html": [
       "<table>\n",
       "    <thead>\n",
       "        <tr>\n",
       "            <th>Success</th>\n",
       "        </tr>\n",
       "    </thead>\n",
       "    <tbody>\n",
       "    </tbody>\n",
       "</table>"
      ],
      "text/plain": [
       "+---------+\n",
       "| Success |\n",
       "+---------+\n",
       "+---------+"
      ]
     },
     "execution_count": 2,
     "metadata": {},
     "output_type": "execute_result"
    }
   ],
   "source": [
    "%%sql\n",
    "INSTALL spatial;\n",
    "LOAD spatial;"
   ]
  },
  {
   "cell_type": "markdown",
   "metadata": {},
   "source": [
    "## Explore Data"
   ]
  },
  {
   "cell_type": "code",
   "execution_count": 9,
   "metadata": {},
   "outputs": [
    {
     "data": {
      "text/html": [
       "<span style=\"None\">Running query in &#x27;duckdb&#x27;</span>"
      ],
      "text/plain": [
       "Running query in 'duckdb'"
      ]
     },
     "metadata": {},
     "output_type": "display_data"
    },
    {
     "data": {
      "text/html": [
       "<table>\n",
       "    <thead>\n",
       "        <tr>\n",
       "            <th>Borough</th>\n",
       "            <th>Block</th>\n",
       "            <th>Lot</th>\n",
       "            <th>CD</th>\n",
       "            <th>BCT2020</th>\n",
       "            <th>BCTCB2020</th>\n",
       "            <th>CT2010</th>\n",
       "            <th>CB2010</th>\n",
       "            <th>SchoolDist</th>\n",
       "            <th>Council</th>\n",
       "            <th>ZipCode</th>\n",
       "            <th>FireComp</th>\n",
       "            <th>PolicePrct</th>\n",
       "            <th>HealthCent</th>\n",
       "            <th>HealthArea</th>\n",
       "            <th>Sanitboro</th>\n",
       "            <th>SanitDistr</th>\n",
       "            <th>SanitSub</th>\n",
       "            <th>Address</th>\n",
       "            <th>ZoneDist1</th>\n",
       "            <th>ZoneDist2</th>\n",
       "            <th>ZoneDist3</th>\n",
       "            <th>ZoneDist4</th>\n",
       "            <th>Overlay1</th>\n",
       "            <th>Overlay2</th>\n",
       "            <th>SPDist1</th>\n",
       "            <th>SPDist2</th>\n",
       "            <th>SPDist3</th>\n",
       "            <th>LtdHeight</th>\n",
       "            <th>SplitZone</th>\n",
       "            <th>BldgClass</th>\n",
       "            <th>LandUse</th>\n",
       "            <th>Easements</th>\n",
       "            <th>OwnerType</th>\n",
       "            <th>OwnerName</th>\n",
       "            <th>LotArea</th>\n",
       "            <th>BldgArea</th>\n",
       "            <th>ComArea</th>\n",
       "            <th>ResArea</th>\n",
       "            <th>OfficeArea</th>\n",
       "            <th>RetailArea</th>\n",
       "            <th>GarageArea</th>\n",
       "            <th>StrgeArea</th>\n",
       "            <th>FactryArea</th>\n",
       "            <th>OtherArea</th>\n",
       "            <th>AreaSource</th>\n",
       "            <th>NumBldgs</th>\n",
       "            <th>NumFloors</th>\n",
       "            <th>UnitsRes</th>\n",
       "            <th>UnitsTotal</th>\n",
       "            <th>LotFront</th>\n",
       "            <th>LotDepth</th>\n",
       "            <th>BldgFront</th>\n",
       "            <th>BldgDepth</th>\n",
       "            <th>Ext</th>\n",
       "            <th>ProxCode</th>\n",
       "            <th>IrrLotCode</th>\n",
       "            <th>LotType</th>\n",
       "            <th>BsmtCode</th>\n",
       "            <th>AssessLand</th>\n",
       "            <th>AssessTot</th>\n",
       "            <th>ExemptTot</th>\n",
       "            <th>YearBuilt</th>\n",
       "            <th>YearAlter1</th>\n",
       "            <th>YearAlter2</th>\n",
       "            <th>HistDist</th>\n",
       "            <th>Landmark</th>\n",
       "            <th>BuiltFAR</th>\n",
       "            <th>ResidFAR</th>\n",
       "            <th>CommFAR</th>\n",
       "            <th>FacilFAR</th>\n",
       "            <th>BoroCode</th>\n",
       "            <th>BBL</th>\n",
       "            <th>CondoNo</th>\n",
       "            <th>Tract2010</th>\n",
       "            <th>XCoord</th>\n",
       "            <th>YCoord</th>\n",
       "            <th>ZoneMap</th>\n",
       "            <th>ZMCode</th>\n",
       "            <th>Sanborn</th>\n",
       "            <th>TaxMap</th>\n",
       "            <th>EDesigNum</th>\n",
       "            <th>APPBBL</th>\n",
       "            <th>APPDate</th>\n",
       "            <th>PLUTOMapID</th>\n",
       "            <th>FIRM07_FLA</th>\n",
       "            <th>PFIRM15_FL</th>\n",
       "            <th>Version</th>\n",
       "            <th>DCPEdited</th>\n",
       "            <th>Latitude</th>\n",
       "            <th>Longitude</th>\n",
       "            <th>Notes</th>\n",
       "            <th>Shape_Leng</th>\n",
       "            <th>Shape_Area</th>\n",
       "            <th>geom</th>\n",
       "        </tr>\n",
       "    </thead>\n",
       "    <tbody>\n",
       "        <tr>\n",
       "            <td>MN</td>\n",
       "            <td>1</td>\n",
       "            <td>301</td>\n",
       "            <td>101</td>\n",
       "            <td>1031703</td>\n",
       "            <td>10317030002</td>\n",
       "            <td>317.03</td>\n",
       "            <td>0001</td>\n",
       "            <td>None</td>\n",
       "            <td>1</td>\n",
       "            <td>0</td>\n",
       "            <td>None</td>\n",
       "            <td>0</td>\n",
       "            <td>0</td>\n",
       "            <td>0</td>\n",
       "            <td>None</td>\n",
       "            <td>None</td>\n",
       "            <td>None</td>\n",
       "            <td>JOE DIMAGGIO HIGHWAY</td>\n",
       "            <td>None</td>\n",
       "            <td>None</td>\n",
       "            <td>None</td>\n",
       "            <td>None</td>\n",
       "            <td>None</td>\n",
       "            <td>None</td>\n",
       "            <td>None</td>\n",
       "            <td>None</td>\n",
       "            <td>None</td>\n",
       "            <td>None</td>\n",
       "            <td>None</td>\n",
       "            <td>U0</td>\n",
       "            <td>07</td>\n",
       "            <td>0</td>\n",
       "            <td>X</td>\n",
       "            <td>UNAVAILABLE OWNER</td>\n",
       "            <td>241719</td>\n",
       "            <td>0</td>\n",
       "            <td>0</td>\n",
       "            <td>0</td>\n",
       "            <td>0</td>\n",
       "            <td>0</td>\n",
       "            <td>0</td>\n",
       "            <td>0</td>\n",
       "            <td>0</td>\n",
       "            <td>0</td>\n",
       "            <td>7</td>\n",
       "            <td>0</td>\n",
       "            <td>0.0</td>\n",
       "            <td>0</td>\n",
       "            <td>0</td>\n",
       "            <td>0.0</td>\n",
       "            <td>0.0</td>\n",
       "            <td>0.0</td>\n",
       "            <td>0.0</td>\n",
       "            <td>None</td>\n",
       "            <td>0</td>\n",
       "            <td>N</td>\n",
       "            <td>0</td>\n",
       "            <td>5</td>\n",
       "            <td>0.0</td>\n",
       "            <td>0.0</td>\n",
       "            <td>0.0</td>\n",
       "            <td>1949</td>\n",
       "            <td>0</td>\n",
       "            <td>0</td>\n",
       "            <td>None</td>\n",
       "            <td>None</td>\n",
       "            <td>0.0</td>\n",
       "            <td>0.0</td>\n",
       "            <td>0.0</td>\n",
       "            <td>0.0</td>\n",
       "            <td>1</td>\n",
       "            <td>1000010301.0</td>\n",
       "            <td>0</td>\n",
       "            <td>031703</td>\n",
       "            <td>978387</td>\n",
       "            <td>199206</td>\n",
       "            <td>12b</td>\n",
       "            <td>None</td>\n",
       "            <td>199 999</td>\n",
       "            <td>10101</td>\n",
       "            <td>None</td>\n",
       "            <td>0.0</td>\n",
       "            <td>None</td>\n",
       "            <td>4</td>\n",
       "            <td>1</td>\n",
       "            <td>1</td>\n",
       "            <td>23v3</td>\n",
       "            <td>t</td>\n",
       "            <td>40.7134492</td>\n",
       "            <td>-74.0211489</td>\n",
       "            <td>None</td>\n",
       "            <td>0.0</td>\n",
       "            <td>241718.831704</td>\n",
       "            <td>b'\\x02\\x04`\\x00\\x00\\x00\\x00\\x00\\xcb\\xa3nI\\xa7 BH\\x84\\x16oI\\x80\\xf2BH\\x02\\x00\\x00\\x00\\x01\\x00\\x00\\x00\\x05\\x00\\x00\\x00\\x00\\x00\\x00\\x00\\x00\\xf0>Z\\xad\\xe2-A\\x00\\x80\\xfc\\xef\\x14D\\x08A\\x00 \\xf3ry\\xd4-A\\x00\\xc0}\\xa2oZ\\x08A\\x000\\xc6\\xdf\\xa7\\xd4-A\\x00\\xc0@\\xedO^\\x08A\\x000Wh\\xd0\\xe2-A\\x00\\x00\\x8c \\x07H\\x08A\\x00\\xf0>Z\\xad\\xe2-A\\x00\\x80\\xfc\\xef\\x14D\\x08A'</td>\n",
       "        </tr>\n",
       "    </tbody>\n",
       "</table>"
      ],
      "text/plain": [
       "+---------+-------+-----+-----+---------+-------------+--------+--------+------------+---------+---------+----------+------------+------------+------------+-----------+------------+----------+----------------------+-----------+-----------+-----------+-----------+----------+----------+---------+---------+---------+-----------+-----------+-----------+---------+-----------+-----------+-------------------+---------+----------+---------+---------+------------+------------+------------+-----------+------------+-----------+------------+----------+-----------+----------+------------+----------+----------+-----------+-----------+------+----------+------------+---------+----------+------------+-----------+-----------+-----------+------------+------------+----------+----------+----------+----------+---------+----------+----------+--------------+---------+-----------+--------+--------+---------+--------+---------+--------+-----------+--------+---------+------------+------------+------------+---------+-----------+------------+-------------+-------+------------+---------------+-----------------------------------------------------------------------------------------------------------------------------------------------------------------------------------------------------------------------------------------------------------------------------------------------------------------------------------------------------------+\n",
       "| Borough | Block | Lot |  CD | BCT2020 |  BCTCB2020  | CT2010 | CB2010 | SchoolDist | Council | ZipCode | FireComp | PolicePrct | HealthCent | HealthArea | Sanitboro | SanitDistr | SanitSub |       Address        | ZoneDist1 | ZoneDist2 | ZoneDist3 | ZoneDist4 | Overlay1 | Overlay2 | SPDist1 | SPDist2 | SPDist3 | LtdHeight | SplitZone | BldgClass | LandUse | Easements | OwnerType |     OwnerName     | LotArea | BldgArea | ComArea | ResArea | OfficeArea | RetailArea | GarageArea | StrgeArea | FactryArea | OtherArea | AreaSource | NumBldgs | NumFloors | UnitsRes | UnitsTotal | LotFront | LotDepth | BldgFront | BldgDepth | Ext  | ProxCode | IrrLotCode | LotType | BsmtCode | AssessLand | AssessTot | ExemptTot | YearBuilt | YearAlter1 | YearAlter2 | HistDist | Landmark | BuiltFAR | ResidFAR | CommFAR | FacilFAR | BoroCode |     BBL      | CondoNo | Tract2010 | XCoord | YCoord | ZoneMap | ZMCode | Sanborn | TaxMap | EDesigNum | APPBBL | APPDate | PLUTOMapID | FIRM07_FLA | PFIRM15_FL | Version | DCPEdited |  Latitude  |  Longitude  | Notes | Shape_Leng |   Shape_Area  |                                                                                                                                                                            geom                                                                                                                                                                           |\n",
       "+---------+-------+-----+-----+---------+-------------+--------+--------+------------+---------+---------+----------+------------+------------+------------+-----------+------------+----------+----------------------+-----------+-----------+-----------+-----------+----------+----------+---------+---------+---------+-----------+-----------+-----------+---------+-----------+-----------+-------------------+---------+----------+---------+---------+------------+------------+------------+-----------+------------+-----------+------------+----------+-----------+----------+------------+----------+----------+-----------+-----------+------+----------+------------+---------+----------+------------+-----------+-----------+-----------+------------+------------+----------+----------+----------+----------+---------+----------+----------+--------------+---------+-----------+--------+--------+---------+--------+---------+--------+-----------+--------+---------+------------+------------+------------+---------+-----------+------------+-------------+-------+------------+---------------+-----------------------------------------------------------------------------------------------------------------------------------------------------------------------------------------------------------------------------------------------------------------------------------------------------------------------------------------------------------+\n",
       "|    MN   |   1   | 301 | 101 | 1031703 | 10317030002 | 317.03 |  0001  |    None    |    1    |    0    |   None   |     0      |     0      |     0      |    None   |    None    |   None   | JOE DIMAGGIO HIGHWAY |    None   |    None   |    None   |    None   |   None   |   None   |   None  |   None  |   None  |    None   |    None   |     U0    |    07   |     0     |     X     | UNAVAILABLE OWNER |  241719 |    0     |    0    |    0    |     0      |     0      |     0      |     0     |     0      |     0     |     7      |    0     |    0.0    |    0     |     0      |   0.0    |   0.0    |    0.0    |    0.0    | None |    0     |     N      |    0    |    5     |    0.0     |    0.0    |    0.0    |    1949   |     0      |     0      |   None   |   None   |   0.0    |   0.0    |   0.0   |   0.0    |    1     | 1000010301.0 |    0    |   031703  | 978387 | 199206 |   12b   |  None  | 199 999 | 10101  |    None   |  0.0   |   None  |     4      |     1      |     1      |   23v3  |     t     | 40.7134492 | -74.0211489 |  None |    0.0     | 241718.831704 | b'\\x02\\x04`\\x00\\x00\\x00\\x00\\x00\\xcb\\xa3nI\\xa7 BH\\x84\\x16oI\\x80\\xf2BH\\x02\\x00\\x00\\x00\\x01\\x00\\x00\\x00\\x05\\x00\\x00\\x00\\x00\\x00\\x00\\x00\\x00\\xf0>Z\\xad\\xe2-A\\x00\\x80\\xfc\\xef\\x14D\\x08A\\x00 \\xf3ry\\xd4-A\\x00\\xc0}\\xa2oZ\\x08A\\x000\\xc6\\xdf\\xa7\\xd4-A\\x00\\xc0@\\xedO^\\x08A\\x000Wh\\xd0\\xe2-A\\x00\\x00\\x8c \\x07H\\x08A\\x00\\xf0>Z\\xad\\xe2-A\\x00\\x80\\xfc\\xef\\x14D\\x08A' |\n",
       "+---------+-------+-----+-----+---------+-------------+--------+--------+------------+---------+---------+----------+------------+------------+------------+-----------+------------+----------+----------------------+-----------+-----------+-----------+-----------+----------+----------+---------+---------+---------+-----------+-----------+-----------+---------+-----------+-----------+-------------------+---------+----------+---------+---------+------------+------------+------------+-----------+------------+-----------+------------+----------+-----------+----------+------------+----------+----------+-----------+-----------+------+----------+------------+---------+----------+------------+-----------+-----------+-----------+------------+------------+----------+----------+----------+----------+---------+----------+----------+--------------+---------+-----------+--------+--------+---------+--------+---------+--------+-----------+--------+---------+------------+------------+------------+---------+-----------+------------+-------------+-------+------------+---------------+-----------------------------------------------------------------------------------------------------------------------------------------------------------------------------------------------------------------------------------------------------------------------------------------------------------------------------------------------------------+"
      ]
     },
     "execution_count": 9,
     "metadata": {},
     "output_type": "execute_result"
    }
   ],
   "source": [
    "%%sql\n",
    "SELECT * FROM './pluto/MapPLUTO_UNCLIPPED.shp' LIMIT 1"
   ]
  },
  {
   "cell_type": "code",
   "execution_count": 3,
   "metadata": {},
   "outputs": [
    {
     "data": {
      "text/html": [
       "<span style=\"None\">Running query in &#x27;duckdb&#x27;</span>"
      ],
      "text/plain": [
       "Running query in 'duckdb'"
      ]
     },
     "metadata": {},
     "output_type": "display_data"
    },
    {
     "data": {
      "text/html": [
       "<table>\n",
       "    <thead>\n",
       "        <tr>\n",
       "            <th>count(1)</th>\n",
       "        </tr>\n",
       "    </thead>\n",
       "    <tbody>\n",
       "        <tr>\n",
       "            <td>857036</td>\n",
       "        </tr>\n",
       "    </tbody>\n",
       "</table>"
      ],
      "text/plain": [
       "+----------+\n",
       "| count(1) |\n",
       "+----------+\n",
       "|  857036  |\n",
       "+----------+"
      ]
     },
     "execution_count": 3,
     "metadata": {},
     "output_type": "execute_result"
    }
   ],
   "source": [
    "%%sql\n",
    "SELECT count(1) FROM './pluto/MapPLUTO_UNCLIPPED.shp'"
   ]
  },
  {
   "cell_type": "code",
   "execution_count": 10,
   "metadata": {},
   "outputs": [
    {
     "data": {
      "text/html": [
       "<span style=\"None\">Running query in &#x27;duckdb&#x27;</span>"
      ],
      "text/plain": [
       "Running query in 'duckdb'"
      ]
     },
     "metadata": {},
     "output_type": "display_data"
    },
    {
     "data": {
      "text/html": [
       "<table>\n",
       "    <thead>\n",
       "        <tr>\n",
       "            <th>ZONEDIST</th>\n",
       "            <th>Shape_Leng</th>\n",
       "            <th>Shape_Area</th>\n",
       "            <th>geom</th>\n",
       "        </tr>\n",
       "    </thead>\n",
       "    <tbody>\n",
       "        <tr>\n",
       "            <td>R4-1</td>\n",
       "            <td>2575.57862978</td>\n",
       "            <td>372245.385615</td>\n",
       "            <td>b'\\x02\\x04\\xe0\\x00\\x00\\x00\\x00\\x00r\\x90oI\\xb8\\x89#H\\xf0\\xc8oI\\xfbU$H\\x02\\x00\\x00\\x00\\x01\\x00\\x00\\x00\\r\\x00\\x00\\x00\\x00\\x00\\x00\\x00\\x00V-\\xf2\\x1d\\xf9-A\\x00v\\x98\\xe6$\\x81\\x04A\\x80\\x17\\xafs\\x97\\xf6-A\\x00\\xf8\\xbdOdt\\x04A\\x00\\xed\\xa0\\xffs\\xf6-A\\x00P\\xc5G\\xb1s\\x04A\\x00\\xa3\\x0f\\x0cp\\xf6-A\\x00\\xc8\\x11\\xc2\\x9ds\\x04A\\x00\\xbd\\x1f\\xfee\\xf6-A\\x00\\xa2\\x19\\x18ls\\x04A\\x00<\\x9a\\x9e\\xf3\\xf5-A\\x00\\xc8o\\x1e7q\\x04A\\x00\\xb3\\xad\\x9a!\\xf5-A\\x00\\xcc=\\x86\\xd3s\\x04A\\x00\\x8d\\xe8D\\x0e\\xf2-A\\x00V\\x0c\\x91\\xa6}\\x04A\\x00\\xf0\\xb1\\x9e\\xae\\xf2-A\\x00\\xe0\\xee\\xb6\\xcf\\x80\\x04A\\x00\\x8d\\xb9\\x9e\\xbc\\xf3-A\\x00L\\xc6P%\\x86\\x04A\\x80\\x0e\\x01\\xe6\\x96\\xf4-A\\x00\\x92%\\xd2]\\x83\\x04A\\x00\\xe3_\\xae\\x16\\xf6-A\\x00\\xb4gC\\xbf\\x8a\\x04A\\x00V-\\xf2\\x1d\\xf9-A\\x00v\\x98\\xe6$\\x81\\x04A'</td>\n",
       "        </tr>\n",
       "    </tbody>\n",
       "</table>"
      ],
      "text/plain": [
       "+----------+---------------+---------------+-----------------------------------------------------------------------------------------------------------------------------------------------------------------------------------------------------------------------------------------------------------------------------------------------------------------------------------------------------------------------------------------------------------------------------------------------------------------------------------------------------------------------------------------------------------------------------------------------------------------------------------------------------------------------------------------------------------------------------------------------------------+\n",
       "| ZONEDIST |   Shape_Leng  |   Shape_Area  |                                                                                                                                                                                                                                                                                                                                                                            geom                                                                                                                                                                                                                                                                                                                                                                           |\n",
       "+----------+---------------+---------------+-----------------------------------------------------------------------------------------------------------------------------------------------------------------------------------------------------------------------------------------------------------------------------------------------------------------------------------------------------------------------------------------------------------------------------------------------------------------------------------------------------------------------------------------------------------------------------------------------------------------------------------------------------------------------------------------------------------------------------------------------------------+\n",
       "|   R4-1   | 2575.57862978 | 372245.385615 | b'\\x02\\x04\\xe0\\x00\\x00\\x00\\x00\\x00r\\x90oI\\xb8\\x89#H\\xf0\\xc8oI\\xfbU$H\\x02\\x00\\x00\\x00\\x01\\x00\\x00\\x00\\r\\x00\\x00\\x00\\x00\\x00\\x00\\x00\\x00V-\\xf2\\x1d\\xf9-A\\x00v\\x98\\xe6$\\x81\\x04A\\x80\\x17\\xafs\\x97\\xf6-A\\x00\\xf8\\xbdOdt\\x04A\\x00\\xed\\xa0\\xffs\\xf6-A\\x00P\\xc5G\\xb1s\\x04A\\x00\\xa3\\x0f\\x0cp\\xf6-A\\x00\\xc8\\x11\\xc2\\x9ds\\x04A\\x00\\xbd\\x1f\\xfee\\xf6-A\\x00\\xa2\\x19\\x18ls\\x04A\\x00<\\x9a\\x9e\\xf3\\xf5-A\\x00\\xc8o\\x1e7q\\x04A\\x00\\xb3\\xad\\x9a!\\xf5-A\\x00\\xcc=\\x86\\xd3s\\x04A\\x00\\x8d\\xe8D\\x0e\\xf2-A\\x00V\\x0c\\x91\\xa6}\\x04A\\x00\\xf0\\xb1\\x9e\\xae\\xf2-A\\x00\\xe0\\xee\\xb6\\xcf\\x80\\x04A\\x00\\x8d\\xb9\\x9e\\xbc\\xf3-A\\x00L\\xc6P%\\x86\\x04A\\x80\\x0e\\x01\\xe6\\x96\\xf4-A\\x00\\x92%\\xd2]\\x83\\x04A\\x00\\xe3_\\xae\\x16\\xf6-A\\x00\\xb4gC\\xbf\\x8a\\x04A\\x00V-\\xf2\\x1d\\xf9-A\\x00v\\x98\\xe6$\\x81\\x04A' |\n",
       "+----------+---------------+---------------+-----------------------------------------------------------------------------------------------------------------------------------------------------------------------------------------------------------------------------------------------------------------------------------------------------------------------------------------------------------------------------------------------------------------------------------------------------------------------------------------------------------------------------------------------------------------------------------------------------------------------------------------------------------------------------------------------------------------------------------------------------------+"
      ]
     },
     "execution_count": 10,
     "metadata": {},
     "output_type": "execute_result"
    }
   ],
   "source": [
    "%%sql \n",
    "SELECT * FROM './zoning/nycgiszoningfeatures_202309shp/nyzd.shp' LIMIT 1"
   ]
  },
  {
   "cell_type": "code",
   "execution_count": 5,
   "metadata": {},
   "outputs": [
    {
     "data": {
      "text/html": [
       "<span style=\"None\">Running query in &#x27;duckdb&#x27;</span>"
      ],
      "text/plain": [
       "Running query in 'duckdb'"
      ]
     },
     "metadata": {},
     "output_type": "display_data"
    },
    {
     "data": {
      "text/html": [
       "<table>\n",
       "    <thead>\n",
       "        <tr>\n",
       "            <th>Count</th>\n",
       "        </tr>\n",
       "    </thead>\n",
       "    <tbody>\n",
       "        <tr>\n",
       "            <td>933549</td>\n",
       "        </tr>\n",
       "    </tbody>\n",
       "</table>"
      ],
      "text/plain": [
       "+--------+\n",
       "| Count  |\n",
       "+--------+\n",
       "| 933549 |\n",
       "+--------+"
      ]
     },
     "execution_count": 5,
     "metadata": {},
     "output_type": "execute_result"
    }
   ],
   "source": [
    "%%sql \n",
    "CREATE OR REPLACE TABLE lotzoneper AS\n",
    "WITH pluto AS (\n",
    "    select bbl, st_transform(geom, 'EPSG:2263', 'EPSG:4326') geom\n",
    "    from './pluto/MapPLUTO_UNCLIPPED.shp'\n",
    ")\n",
    ", zoningdistricts AS (\n",
    "    select zonedist, st_transform(geom, 'EPSG:2263', 'EPSG:4326') geom\n",
    "    from './zoning/nycgiszoningfeatures_202309shp/nyzd.shp'\n",
    ")\n",
    "SELECT\n",
    "    p.bbl,\n",
    "    n.zonedist,\n",
    "    SUM(ST_AREA(\n",
    "        CASE\n",
    "            WHEN ST_COVEREDBY(p.geom, n.geom) THEN p.geom\n",
    "            ELSE ST_INTERSECTION(p.geom, n.geom)\n",
    "        END\n",
    "    )) AS segbblgeom,\n",
    "    SUM(ST_AREA(\n",
    "        CASE\n",
    "            WHEN ST_COVEREDBY(n.geom, p.geom) THEN n.geom\n",
    "            ELSE ST_INTERSECTION(n.geom, p.geom)\n",
    "        END\n",
    "    )) AS segzonegeom,\n",
    "    SUM(ST_AREA(p.geom)) AS allbblgeom,\n",
    "    SUM(ST_AREA(n.geom)) AS allzonegeom\n",
    "FROM pluto AS p\n",
    "INNER JOIN zoningdistricts AS n \n",
    "    ON ST_INTERSECTS(p.geom, n.geom)\n",
    "GROUP BY ALL"
   ]
  },
  {
   "cell_type": "code",
   "execution_count": null,
   "metadata": {},
   "outputs": [],
   "source": []
  }
 ],
 "metadata": {
  "kernelspec": {
   "display_name": "Python 3",
   "language": "python",
   "name": "python3"
  },
  "language_info": {
   "codemirror_mode": {
    "name": "ipython",
    "version": 3
   },
   "file_extension": ".py",
   "mimetype": "text/x-python",
   "name": "python",
   "nbconvert_exporter": "python",
   "pygments_lexer": "ipython3",
   "version": "3.10.8"
  }
 },
 "nbformat": 4,
 "nbformat_minor": 2
}
