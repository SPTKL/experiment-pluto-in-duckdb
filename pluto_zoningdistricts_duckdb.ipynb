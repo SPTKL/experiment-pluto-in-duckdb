{
 "cells": [
  {
   "cell_type": "markdown",
   "metadata": {},
   "source": [
    "# Testing out spatial extension in duckdb"
   ]
  },
  {
   "cell_type": "code",
   "execution_count": 1,
   "metadata": {},
   "outputs": [
    {
     "name": "stdout",
     "output_type": "stream",
     "text": [
      "Requirement already satisfied: duckdb==0.9.1 in /usr/local/python/3.10.8/lib/python3.10/site-packages (from -r requirements.txt (line 1)) (0.9.1)\n",
      "Requirement already satisfied: jupysql in /usr/local/python/3.10.8/lib/python3.10/site-packages (from -r requirements.txt (line 2)) (0.10.2)\n",
      "Requirement already satisfied: pandas in /home/codespace/.local/lib/python3.10/site-packages (from -r requirements.txt (line 3)) (2.1.1)\n",
      "Requirement already satisfied: matplotlib in /home/codespace/.local/lib/python3.10/site-packages (from -r requirements.txt (line 4)) (3.8.0)\n",
      "Requirement already satisfied: duckdb-engine in /usr/local/python/3.10.8/lib/python3.10/site-packages (from -r requirements.txt (line 5)) (0.9.2)\n",
      "Requirement already satisfied: prettytable in /usr/local/python/3.10.8/lib/python3.10/site-packages (from jupysql->-r requirements.txt (line 2)) (3.9.0)\n",
      "Requirement already satisfied: ipython in /home/codespace/.local/lib/python3.10/site-packages (from jupysql->-r requirements.txt (line 2)) (8.16.1)\n",
      "Requirement already satisfied: sqlalchemy in /usr/local/python/3.10.8/lib/python3.10/site-packages (from jupysql->-r requirements.txt (line 2)) (2.0.23)\n",
      "Requirement already satisfied: sqlparse in /usr/local/python/3.10.8/lib/python3.10/site-packages (from jupysql->-r requirements.txt (line 2)) (0.4.4)\n",
      "Requirement already satisfied: ipython-genutils>=0.1.0 in /usr/local/python/3.10.8/lib/python3.10/site-packages (from jupysql->-r requirements.txt (line 2)) (0.2.0)\n",
      "Requirement already satisfied: jinja2 in /home/codespace/.local/lib/python3.10/site-packages (from jupysql->-r requirements.txt (line 2)) (3.1.2)\n",
      "Requirement already satisfied: sqlglot>=11.3.7 in /usr/local/python/3.10.8/lib/python3.10/site-packages (from jupysql->-r requirements.txt (line 2)) (19.0.3)\n",
      "Requirement already satisfied: ploomber-core>=0.2.7 in /usr/local/python/3.10.8/lib/python3.10/site-packages (from jupysql->-r requirements.txt (line 2)) (0.2.15)\n",
      "Requirement already satisfied: jupysql-plugin in /usr/local/python/3.10.8/lib/python3.10/site-packages (from jupysql->-r requirements.txt (line 2)) (0.2.6)\n",
      "Requirement already satisfied: numpy>=1.22.4 in /home/codespace/.local/lib/python3.10/site-packages (from pandas->-r requirements.txt (line 3)) (1.26.1)\n",
      "Requirement already satisfied: python-dateutil>=2.8.2 in /home/codespace/.local/lib/python3.10/site-packages (from pandas->-r requirements.txt (line 3)) (2.8.2)\n",
      "Requirement already satisfied: pytz>=2020.1 in /home/codespace/.local/lib/python3.10/site-packages (from pandas->-r requirements.txt (line 3)) (2023.3.post1)\n",
      "Requirement already satisfied: tzdata>=2022.1 in /home/codespace/.local/lib/python3.10/site-packages (from pandas->-r requirements.txt (line 3)) (2023.3)\n",
      "Requirement already satisfied: contourpy>=1.0.1 in /home/codespace/.local/lib/python3.10/site-packages (from matplotlib->-r requirements.txt (line 4)) (1.1.1)\n",
      "Requirement already satisfied: cycler>=0.10 in /home/codespace/.local/lib/python3.10/site-packages (from matplotlib->-r requirements.txt (line 4)) (0.12.1)\n",
      "Requirement already satisfied: fonttools>=4.22.0 in /home/codespace/.local/lib/python3.10/site-packages (from matplotlib->-r requirements.txt (line 4)) (4.43.1)\n",
      "Requirement already satisfied: kiwisolver>=1.0.1 in /home/codespace/.local/lib/python3.10/site-packages (from matplotlib->-r requirements.txt (line 4)) (1.4.5)\n",
      "Requirement already satisfied: packaging>=20.0 in /home/codespace/.local/lib/python3.10/site-packages (from matplotlib->-r requirements.txt (line 4)) (23.2)\n",
      "Requirement already satisfied: pillow>=6.2.0 in /home/codespace/.local/lib/python3.10/site-packages (from matplotlib->-r requirements.txt (line 4)) (10.1.0)\n",
      "Requirement already satisfied: pyparsing>=2.3.1 in /home/codespace/.local/lib/python3.10/site-packages (from matplotlib->-r requirements.txt (line 4)) (3.1.1)\n",
      "Requirement already satisfied: click in /usr/local/python/3.10.8/lib/python3.10/site-packages (from ploomber-core>=0.2.7->jupysql->-r requirements.txt (line 2)) (8.1.7)\n",
      "Requirement already satisfied: pyyaml in /home/codespace/.local/lib/python3.10/site-packages (from ploomber-core>=0.2.7->jupysql->-r requirements.txt (line 2)) (6.0.1)\n",
      "Requirement already satisfied: posthog in /usr/local/python/3.10.8/lib/python3.10/site-packages (from ploomber-core>=0.2.7->jupysql->-r requirements.txt (line 2)) (3.0.2)\n",
      "Requirement already satisfied: six>=1.5 in /home/codespace/.local/lib/python3.10/site-packages (from python-dateutil>=2.8.2->pandas->-r requirements.txt (line 3)) (1.16.0)\n",
      "Requirement already satisfied: typing-extensions>=4.2.0 in /home/codespace/.local/lib/python3.10/site-packages (from sqlalchemy->jupysql->-r requirements.txt (line 2)) (4.8.0)\n",
      "Requirement already satisfied: greenlet!=0.4.17 in /usr/local/python/3.10.8/lib/python3.10/site-packages (from sqlalchemy->jupysql->-r requirements.txt (line 2)) (3.0.1)\n",
      "Requirement already satisfied: backcall in /home/codespace/.local/lib/python3.10/site-packages (from ipython->jupysql->-r requirements.txt (line 2)) (0.2.0)\n",
      "Requirement already satisfied: decorator in /home/codespace/.local/lib/python3.10/site-packages (from ipython->jupysql->-r requirements.txt (line 2)) (5.1.1)\n",
      "Requirement already satisfied: jedi>=0.16 in /home/codespace/.local/lib/python3.10/site-packages (from ipython->jupysql->-r requirements.txt (line 2)) (0.19.1)\n",
      "Requirement already satisfied: matplotlib-inline in /home/codespace/.local/lib/python3.10/site-packages (from ipython->jupysql->-r requirements.txt (line 2)) (0.1.6)\n",
      "Requirement already satisfied: pickleshare in /home/codespace/.local/lib/python3.10/site-packages (from ipython->jupysql->-r requirements.txt (line 2)) (0.7.5)\n",
      "Requirement already satisfied: prompt-toolkit!=3.0.37,<3.1.0,>=3.0.30 in /home/codespace/.local/lib/python3.10/site-packages (from ipython->jupysql->-r requirements.txt (line 2)) (3.0.39)\n",
      "Requirement already satisfied: pygments>=2.4.0 in /home/codespace/.local/lib/python3.10/site-packages (from ipython->jupysql->-r requirements.txt (line 2)) (2.16.1)\n",
      "Requirement already satisfied: stack-data in /home/codespace/.local/lib/python3.10/site-packages (from ipython->jupysql->-r requirements.txt (line 2)) (0.6.3)\n",
      "Requirement already satisfied: traitlets>=5 in /home/codespace/.local/lib/python3.10/site-packages (from ipython->jupysql->-r requirements.txt (line 2)) (5.11.2)\n",
      "Requirement already satisfied: exceptiongroup in /home/codespace/.local/lib/python3.10/site-packages (from ipython->jupysql->-r requirements.txt (line 2)) (1.1.3)\n",
      "Requirement already satisfied: pexpect>4.3 in /home/codespace/.local/lib/python3.10/site-packages (from ipython->jupysql->-r requirements.txt (line 2)) (4.8.0)\n",
      "Requirement already satisfied: MarkupSafe>=2.0 in /home/codespace/.local/lib/python3.10/site-packages (from jinja2->jupysql->-r requirements.txt (line 2)) (2.1.3)\n",
      "Requirement already satisfied: wcwidth in /home/codespace/.local/lib/python3.10/site-packages (from prettytable->jupysql->-r requirements.txt (line 2)) (0.2.8)\n",
      "Requirement already satisfied: parso<0.9.0,>=0.8.3 in /home/codespace/.local/lib/python3.10/site-packages (from jedi>=0.16->ipython->jupysql->-r requirements.txt (line 2)) (0.8.3)\n",
      "Requirement already satisfied: ptyprocess>=0.5 in /home/codespace/.local/lib/python3.10/site-packages (from pexpect>4.3->ipython->jupysql->-r requirements.txt (line 2)) (0.7.0)\n",
      "Requirement already satisfied: requests<3.0,>=2.7 in /home/codespace/.local/lib/python3.10/site-packages (from posthog->ploomber-core>=0.2.7->jupysql->-r requirements.txt (line 2)) (2.31.0)\n",
      "Requirement already satisfied: monotonic>=1.5 in /usr/local/python/3.10.8/lib/python3.10/site-packages (from posthog->ploomber-core>=0.2.7->jupysql->-r requirements.txt (line 2)) (1.6)\n",
      "Requirement already satisfied: backoff>=1.10.0 in /usr/local/python/3.10.8/lib/python3.10/site-packages (from posthog->ploomber-core>=0.2.7->jupysql->-r requirements.txt (line 2)) (2.2.1)\n",
      "Requirement already satisfied: executing>=1.2.0 in /home/codespace/.local/lib/python3.10/site-packages (from stack-data->ipython->jupysql->-r requirements.txt (line 2)) (2.0.0)\n",
      "Requirement already satisfied: asttokens>=2.1.0 in /home/codespace/.local/lib/python3.10/site-packages (from stack-data->ipython->jupysql->-r requirements.txt (line 2)) (2.4.0)\n",
      "Requirement already satisfied: pure-eval in /home/codespace/.local/lib/python3.10/site-packages (from stack-data->ipython->jupysql->-r requirements.txt (line 2)) (0.2.2)\n",
      "Requirement already satisfied: charset-normalizer<4,>=2 in /home/codespace/.local/lib/python3.10/site-packages (from requests<3.0,>=2.7->posthog->ploomber-core>=0.2.7->jupysql->-r requirements.txt (line 2)) (3.3.0)\n",
      "Requirement already satisfied: idna<4,>=2.5 in /home/codespace/.local/lib/python3.10/site-packages (from requests<3.0,>=2.7->posthog->ploomber-core>=0.2.7->jupysql->-r requirements.txt (line 2)) (3.4)\n",
      "Requirement already satisfied: urllib3<3,>=1.21.1 in /home/codespace/.local/lib/python3.10/site-packages (from requests<3.0,>=2.7->posthog->ploomber-core>=0.2.7->jupysql->-r requirements.txt (line 2)) (2.0.7)\n",
      "Requirement already satisfied: certifi>=2017.4.17 in /home/codespace/.local/lib/python3.10/site-packages (from requests<3.0,>=2.7->posthog->ploomber-core>=0.2.7->jupysql->-r requirements.txt (line 2)) (2023.7.22)\n",
      "\n",
      "\u001b[1m[\u001b[0m\u001b[34;49mnotice\u001b[0m\u001b[1;39;49m]\u001b[0m\u001b[39;49m A new release of pip is available: \u001b[0m\u001b[31;49m23.3\u001b[0m\u001b[39;49m -> \u001b[0m\u001b[32;49m23.3.1\u001b[0m\n",
      "\u001b[1m[\u001b[0m\u001b[34;49mnotice\u001b[0m\u001b[1;39;49m]\u001b[0m\u001b[39;49m To update, run: \u001b[0m\u001b[32;49mpython -m pip install --upgrade pip\u001b[0m\n"
     ]
    }
   ],
   "source": [
    "! pip install -r requirements.txt"
   ]
  },
  {
   "cell_type": "code",
   "execution_count": 1,
   "metadata": {},
   "outputs": [],
   "source": [
    "import duckdb\n",
    "import pandas as pd\n",
    "\n",
    "%load_ext sql\n",
    "conn = duckdb.connect(\"database.ddb\")\n",
    "%sql conn --alias duckdb"
   ]
  },
  {
   "cell_type": "markdown",
   "metadata": {},
   "source": [
    "## Install spatial extension"
   ]
  },
  {
   "cell_type": "code",
   "execution_count": 2,
   "metadata": {},
   "outputs": [
    {
     "data": {
      "text/html": [
       "<span style=\"None\">Running query in &#x27;duckdb&#x27;</span>"
      ],
      "text/plain": [
       "Running query in 'duckdb'"
      ]
     },
     "metadata": {},
     "output_type": "display_data"
    },
    {
     "data": {
      "text/html": [
       "<table>\n",
       "    <thead>\n",
       "        <tr>\n",
       "            <th>Success</th>\n",
       "        </tr>\n",
       "    </thead>\n",
       "    <tbody>\n",
       "    </tbody>\n",
       "</table>"
      ],
      "text/plain": [
       "+---------+\n",
       "| Success |\n",
       "+---------+\n",
       "+---------+"
      ]
     },
     "execution_count": 2,
     "metadata": {},
     "output_type": "execute_result"
    }
   ],
   "source": [
    "%%sql\n",
    "INSTALL spatial;\n",
    "LOAD spatial;\n"
   ]
  },
  {
   "cell_type": "code",
   "execution_count": 4,
   "metadata": {},
   "outputs": [],
   "source": [
    "# download pluto\n",
    "# ! curl -O https://s-media.nyc.gov/agencies/dcp/assets/files/zip/data-tools/bytes/nyc_mappluto_23v3_unclipped_shp.zip"
   ]
  },
  {
   "cell_type": "code",
   "execution_count": 5,
   "metadata": {},
   "outputs": [],
   "source": [
    "# ! unzip nyc_mappluto_23v3_unclipped_shp.zip -d pluto"
   ]
  },
  {
   "cell_type": "code",
   "execution_count": 6,
   "metadata": {},
   "outputs": [],
   "source": [
    "# download zoningdistricts\n",
    "# ! curl -O https://s-media.nyc.gov/agencies/dcp/assets/files/zip/data-tools/bytes/nycgiszoningfeatures_202309shp.zip"
   ]
  },
  {
   "cell_type": "code",
   "execution_count": 7,
   "metadata": {},
   "outputs": [],
   "source": [
    "# ! unzip nycgiszoningfeatures_202309shp.zip -d zoning"
   ]
  },
  {
   "cell_type": "markdown",
   "metadata": {},
   "source": [
    "## Explore Data"
   ]
  },
  {
   "cell_type": "code",
   "execution_count": 9,
   "metadata": {},
   "outputs": [
    {
     "data": {
      "text/html": [
       "<span style=\"None\">Running query in &#x27;duckdb&#x27;</span>"
      ],
      "text/plain": [
       "Running query in 'duckdb'"
      ]
     },
     "metadata": {},
     "output_type": "display_data"
    },
    {
     "data": {
      "text/html": [
       "<table>\n",
       "    <thead>\n",
       "        <tr>\n",
       "            <th>Borough</th>\n",
       "            <th>Block</th>\n",
       "            <th>Lot</th>\n",
       "            <th>CD</th>\n",
       "            <th>BCT2020</th>\n",
       "            <th>BCTCB2020</th>\n",
       "            <th>CT2010</th>\n",
       "            <th>CB2010</th>\n",
       "            <th>SchoolDist</th>\n",
       "            <th>Council</th>\n",
       "            <th>ZipCode</th>\n",
       "            <th>FireComp</th>\n",
       "            <th>PolicePrct</th>\n",
       "            <th>HealthCent</th>\n",
       "            <th>HealthArea</th>\n",
       "            <th>Sanitboro</th>\n",
       "            <th>SanitDistr</th>\n",
       "            <th>SanitSub</th>\n",
       "            <th>Address</th>\n",
       "            <th>ZoneDist1</th>\n",
       "            <th>ZoneDist2</th>\n",
       "            <th>ZoneDist3</th>\n",
       "            <th>ZoneDist4</th>\n",
       "            <th>Overlay1</th>\n",
       "            <th>Overlay2</th>\n",
       "            <th>SPDist1</th>\n",
       "            <th>SPDist2</th>\n",
       "            <th>SPDist3</th>\n",
       "            <th>LtdHeight</th>\n",
       "            <th>SplitZone</th>\n",
       "            <th>BldgClass</th>\n",
       "            <th>LandUse</th>\n",
       "            <th>Easements</th>\n",
       "            <th>OwnerType</th>\n",
       "            <th>OwnerName</th>\n",
       "            <th>LotArea</th>\n",
       "            <th>BldgArea</th>\n",
       "            <th>ComArea</th>\n",
       "            <th>ResArea</th>\n",
       "            <th>OfficeArea</th>\n",
       "            <th>RetailArea</th>\n",
       "            <th>GarageArea</th>\n",
       "            <th>StrgeArea</th>\n",
       "            <th>FactryArea</th>\n",
       "            <th>OtherArea</th>\n",
       "            <th>AreaSource</th>\n",
       "            <th>NumBldgs</th>\n",
       "            <th>NumFloors</th>\n",
       "            <th>UnitsRes</th>\n",
       "            <th>UnitsTotal</th>\n",
       "            <th>LotFront</th>\n",
       "            <th>LotDepth</th>\n",
       "            <th>BldgFront</th>\n",
       "            <th>BldgDepth</th>\n",
       "            <th>Ext</th>\n",
       "            <th>ProxCode</th>\n",
       "            <th>IrrLotCode</th>\n",
       "            <th>LotType</th>\n",
       "            <th>BsmtCode</th>\n",
       "            <th>AssessLand</th>\n",
       "            <th>AssessTot</th>\n",
       "            <th>ExemptTot</th>\n",
       "            <th>YearBuilt</th>\n",
       "            <th>YearAlter1</th>\n",
       "            <th>YearAlter2</th>\n",
       "            <th>HistDist</th>\n",
       "            <th>Landmark</th>\n",
       "            <th>BuiltFAR</th>\n",
       "            <th>ResidFAR</th>\n",
       "            <th>CommFAR</th>\n",
       "            <th>FacilFAR</th>\n",
       "            <th>BoroCode</th>\n",
       "            <th>BBL</th>\n",
       "            <th>CondoNo</th>\n",
       "            <th>Tract2010</th>\n",
       "            <th>XCoord</th>\n",
       "            <th>YCoord</th>\n",
       "            <th>ZoneMap</th>\n",
       "            <th>ZMCode</th>\n",
       "            <th>Sanborn</th>\n",
       "            <th>TaxMap</th>\n",
       "            <th>EDesigNum</th>\n",
       "            <th>APPBBL</th>\n",
       "            <th>APPDate</th>\n",
       "            <th>PLUTOMapID</th>\n",
       "            <th>FIRM07_FLA</th>\n",
       "            <th>PFIRM15_FL</th>\n",
       "            <th>Version</th>\n",
       "            <th>DCPEdited</th>\n",
       "            <th>Latitude</th>\n",
       "            <th>Longitude</th>\n",
       "            <th>Notes</th>\n",
       "            <th>Shape_Leng</th>\n",
       "            <th>Shape_Area</th>\n",
       "            <th>geom</th>\n",
       "        </tr>\n",
       "    </thead>\n",
       "    <tbody>\n",
       "        <tr>\n",
       "            <td>MN</td>\n",
       "            <td>1</td>\n",
       "            <td>301</td>\n",
       "            <td>101</td>\n",
       "            <td>1031703</td>\n",
       "            <td>10317030002</td>\n",
       "            <td>317.03</td>\n",
       "            <td>0001</td>\n",
       "            <td>None</td>\n",
       "            <td>1</td>\n",
       "            <td>0</td>\n",
       "            <td>None</td>\n",
       "            <td>0</td>\n",
       "            <td>0</td>\n",
       "            <td>0</td>\n",
       "            <td>None</td>\n",
       "            <td>None</td>\n",
       "            <td>None</td>\n",
       "            <td>JOE DIMAGGIO HIGHWAY</td>\n",
       "            <td>None</td>\n",
       "            <td>None</td>\n",
       "            <td>None</td>\n",
       "            <td>None</td>\n",
       "            <td>None</td>\n",
       "            <td>None</td>\n",
       "            <td>None</td>\n",
       "            <td>None</td>\n",
       "            <td>None</td>\n",
       "            <td>None</td>\n",
       "            <td>None</td>\n",
       "            <td>U0</td>\n",
       "            <td>07</td>\n",
       "            <td>0</td>\n",
       "            <td>X</td>\n",
       "            <td>UNAVAILABLE OWNER</td>\n",
       "            <td>241719</td>\n",
       "            <td>0</td>\n",
       "            <td>0</td>\n",
       "            <td>0</td>\n",
       "            <td>0</td>\n",
       "            <td>0</td>\n",
       "            <td>0</td>\n",
       "            <td>0</td>\n",
       "            <td>0</td>\n",
       "            <td>0</td>\n",
       "            <td>7</td>\n",
       "            <td>0</td>\n",
       "            <td>0.0</td>\n",
       "            <td>0</td>\n",
       "            <td>0</td>\n",
       "            <td>0.0</td>\n",
       "            <td>0.0</td>\n",
       "            <td>0.0</td>\n",
       "            <td>0.0</td>\n",
       "            <td>None</td>\n",
       "            <td>0</td>\n",
       "            <td>N</td>\n",
       "            <td>0</td>\n",
       "            <td>5</td>\n",
       "            <td>0.0</td>\n",
       "            <td>0.0</td>\n",
       "            <td>0.0</td>\n",
       "            <td>1949</td>\n",
       "            <td>0</td>\n",
       "            <td>0</td>\n",
       "            <td>None</td>\n",
       "            <td>None</td>\n",
       "            <td>0.0</td>\n",
       "            <td>0.0</td>\n",
       "            <td>0.0</td>\n",
       "            <td>0.0</td>\n",
       "            <td>1</td>\n",
       "            <td>1000010301.0</td>\n",
       "            <td>0</td>\n",
       "            <td>031703</td>\n",
       "            <td>978387</td>\n",
       "            <td>199206</td>\n",
       "            <td>12b</td>\n",
       "            <td>None</td>\n",
       "            <td>199 999</td>\n",
       "            <td>10101</td>\n",
       "            <td>None</td>\n",
       "            <td>0.0</td>\n",
       "            <td>None</td>\n",
       "            <td>4</td>\n",
       "            <td>1</td>\n",
       "            <td>1</td>\n",
       "            <td>23v3</td>\n",
       "            <td>t</td>\n",
       "            <td>40.7134492</td>\n",
       "            <td>-74.0211489</td>\n",
       "            <td>None</td>\n",
       "            <td>0.0</td>\n",
       "            <td>241718.831704</td>\n",
       "            <td>b'\\x02\\x04`\\x00\\x00\\x00\\x00\\x00\\xcb\\xa3nI\\xa7 BH\\x84\\x16oI\\x80\\xf2BH\\x02\\x00\\x00\\x00\\x01\\x00\\x00\\x00\\x05\\x00\\x00\\x00\\x00\\x00\\x00\\x00\\x00\\xf0>Z\\xad\\xe2-A\\x00\\x80\\xfc\\xef\\x14D\\x08A\\x00 \\xf3ry\\xd4-A\\x00\\xc0}\\xa2oZ\\x08A\\x000\\xc6\\xdf\\xa7\\xd4-A\\x00\\xc0@\\xedO^\\x08A\\x000Wh\\xd0\\xe2-A\\x00\\x00\\x8c \\x07H\\x08A\\x00\\xf0>Z\\xad\\xe2-A\\x00\\x80\\xfc\\xef\\x14D\\x08A'</td>\n",
       "        </tr>\n",
       "    </tbody>\n",
       "</table>"
      ],
      "text/plain": [
       "+---------+-------+-----+-----+---------+-------------+--------+--------+------------+---------+---------+----------+------------+------------+------------+-----------+------------+----------+----------------------+-----------+-----------+-----------+-----------+----------+----------+---------+---------+---------+-----------+-----------+-----------+---------+-----------+-----------+-------------------+---------+----------+---------+---------+------------+------------+------------+-----------+------------+-----------+------------+----------+-----------+----------+------------+----------+----------+-----------+-----------+------+----------+------------+---------+----------+------------+-----------+-----------+-----------+------------+------------+----------+----------+----------+----------+---------+----------+----------+--------------+---------+-----------+--------+--------+---------+--------+---------+--------+-----------+--------+---------+------------+------------+------------+---------+-----------+------------+-------------+-------+------------+---------------+-----------------------------------------------------------------------------------------------------------------------------------------------------------------------------------------------------------------------------------------------------------------------------------------------------------------------------------------------------------+\n",
       "| Borough | Block | Lot |  CD | BCT2020 |  BCTCB2020  | CT2010 | CB2010 | SchoolDist | Council | ZipCode | FireComp | PolicePrct | HealthCent | HealthArea | Sanitboro | SanitDistr | SanitSub |       Address        | ZoneDist1 | ZoneDist2 | ZoneDist3 | ZoneDist4 | Overlay1 | Overlay2 | SPDist1 | SPDist2 | SPDist3 | LtdHeight | SplitZone | BldgClass | LandUse | Easements | OwnerType |     OwnerName     | LotArea | BldgArea | ComArea | ResArea | OfficeArea | RetailArea | GarageArea | StrgeArea | FactryArea | OtherArea | AreaSource | NumBldgs | NumFloors | UnitsRes | UnitsTotal | LotFront | LotDepth | BldgFront | BldgDepth | Ext  | ProxCode | IrrLotCode | LotType | BsmtCode | AssessLand | AssessTot | ExemptTot | YearBuilt | YearAlter1 | YearAlter2 | HistDist | Landmark | BuiltFAR | ResidFAR | CommFAR | FacilFAR | BoroCode |     BBL      | CondoNo | Tract2010 | XCoord | YCoord | ZoneMap | ZMCode | Sanborn | TaxMap | EDesigNum | APPBBL | APPDate | PLUTOMapID | FIRM07_FLA | PFIRM15_FL | Version | DCPEdited |  Latitude  |  Longitude  | Notes | Shape_Leng |   Shape_Area  |                                                                                                                                                                            geom                                                                                                                                                                           |\n",
       "+---------+-------+-----+-----+---------+-------------+--------+--------+------------+---------+---------+----------+------------+------------+------------+-----------+------------+----------+----------------------+-----------+-----------+-----------+-----------+----------+----------+---------+---------+---------+-----------+-----------+-----------+---------+-----------+-----------+-------------------+---------+----------+---------+---------+------------+------------+------------+-----------+------------+-----------+------------+----------+-----------+----------+------------+----------+----------+-----------+-----------+------+----------+------------+---------+----------+------------+-----------+-----------+-----------+------------+------------+----------+----------+----------+----------+---------+----------+----------+--------------+---------+-----------+--------+--------+---------+--------+---------+--------+-----------+--------+---------+------------+------------+------------+---------+-----------+------------+-------------+-------+------------+---------------+-----------------------------------------------------------------------------------------------------------------------------------------------------------------------------------------------------------------------------------------------------------------------------------------------------------------------------------------------------------+\n",
       "|    MN   |   1   | 301 | 101 | 1031703 | 10317030002 | 317.03 |  0001  |    None    |    1    |    0    |   None   |     0      |     0      |     0      |    None   |    None    |   None   | JOE DIMAGGIO HIGHWAY |    None   |    None   |    None   |    None   |   None   |   None   |   None  |   None  |   None  |    None   |    None   |     U0    |    07   |     0     |     X     | UNAVAILABLE OWNER |  241719 |    0     |    0    |    0    |     0      |     0      |     0      |     0     |     0      |     0     |     7      |    0     |    0.0    |    0     |     0      |   0.0    |   0.0    |    0.0    |    0.0    | None |    0     |     N      |    0    |    5     |    0.0     |    0.0    |    0.0    |    1949   |     0      |     0      |   None   |   None   |   0.0    |   0.0    |   0.0   |   0.0    |    1     | 1000010301.0 |    0    |   031703  | 978387 | 199206 |   12b   |  None  | 199 999 | 10101  |    None   |  0.0   |   None  |     4      |     1      |     1      |   23v3  |     t     | 40.7134492 | -74.0211489 |  None |    0.0     | 241718.831704 | b'\\x02\\x04`\\x00\\x00\\x00\\x00\\x00\\xcb\\xa3nI\\xa7 BH\\x84\\x16oI\\x80\\xf2BH\\x02\\x00\\x00\\x00\\x01\\x00\\x00\\x00\\x05\\x00\\x00\\x00\\x00\\x00\\x00\\x00\\x00\\xf0>Z\\xad\\xe2-A\\x00\\x80\\xfc\\xef\\x14D\\x08A\\x00 \\xf3ry\\xd4-A\\x00\\xc0}\\xa2oZ\\x08A\\x000\\xc6\\xdf\\xa7\\xd4-A\\x00\\xc0@\\xedO^\\x08A\\x000Wh\\xd0\\xe2-A\\x00\\x00\\x8c \\x07H\\x08A\\x00\\xf0>Z\\xad\\xe2-A\\x00\\x80\\xfc\\xef\\x14D\\x08A' |\n",
       "+---------+-------+-----+-----+---------+-------------+--------+--------+------------+---------+---------+----------+------------+------------+------------+-----------+------------+----------+----------------------+-----------+-----------+-----------+-----------+----------+----------+---------+---------+---------+-----------+-----------+-----------+---------+-----------+-----------+-------------------+---------+----------+---------+---------+------------+------------+------------+-----------+------------+-----------+------------+----------+-----------+----------+------------+----------+----------+-----------+-----------+------+----------+------------+---------+----------+------------+-----------+-----------+-----------+------------+------------+----------+----------+----------+----------+---------+----------+----------+--------------+---------+-----------+--------+--------+---------+--------+---------+--------+-----------+--------+---------+------------+------------+------------+---------+-----------+------------+-------------+-------+------------+---------------+-----------------------------------------------------------------------------------------------------------------------------------------------------------------------------------------------------------------------------------------------------------------------------------------------------------------------------------------------------------+"
      ]
     },
     "execution_count": 9,
     "metadata": {},
     "output_type": "execute_result"
    }
   ],
   "source": [
    "%%sql\n",
    "SELECT * FROM './pluto/MapPLUTO_UNCLIPPED.shp' LIMIT 1"
   ]
  },
  {
   "cell_type": "code",
   "execution_count": 3,
   "metadata": {},
   "outputs": [
    {
     "data": {
      "text/html": [
       "<span style=\"None\">Running query in &#x27;duckdb&#x27;</span>"
      ],
      "text/plain": [
       "Running query in 'duckdb'"
      ]
     },
     "metadata": {},
     "output_type": "display_data"
    },
    {
     "data": {
      "text/html": [
       "<table>\n",
       "    <thead>\n",
       "        <tr>\n",
       "            <th>count(1)</th>\n",
       "        </tr>\n",
       "    </thead>\n",
       "    <tbody>\n",
       "        <tr>\n",
       "            <td>857036</td>\n",
       "        </tr>\n",
       "    </tbody>\n",
       "</table>"
      ],
      "text/plain": [
       "+----------+\n",
       "| count(1) |\n",
       "+----------+\n",
       "|  857036  |\n",
       "+----------+"
      ]
     },
     "execution_count": 3,
     "metadata": {},
     "output_type": "execute_result"
    }
   ],
   "source": [
    "%%sql\n",
    "SELECT count(1) FROM './pluto/MapPLUTO_UNCLIPPED.shp'"
   ]
  },
  {
   "cell_type": "code",
   "execution_count": 10,
   "metadata": {},
   "outputs": [
    {
     "data": {
      "text/html": [
       "<span style=\"None\">Running query in &#x27;duckdb&#x27;</span>"
      ],
      "text/plain": [
       "Running query in 'duckdb'"
      ]
     },
     "metadata": {},
     "output_type": "display_data"
    },
    {
     "data": {
      "text/html": [
       "<table>\n",
       "    <thead>\n",
       "        <tr>\n",
       "            <th>ZONEDIST</th>\n",
       "            <th>Shape_Leng</th>\n",
       "            <th>Shape_Area</th>\n",
       "            <th>geom</th>\n",
       "        </tr>\n",
       "    </thead>\n",
       "    <tbody>\n",
       "        <tr>\n",
       "            <td>R4-1</td>\n",
       "            <td>2575.57862978</td>\n",
       "            <td>372245.385615</td>\n",
       "            <td>b'\\x02\\x04\\xe0\\x00\\x00\\x00\\x00\\x00r\\x90oI\\xb8\\x89#H\\xf0\\xc8oI\\xfbU$H\\x02\\x00\\x00\\x00\\x01\\x00\\x00\\x00\\r\\x00\\x00\\x00\\x00\\x00\\x00\\x00\\x00V-\\xf2\\x1d\\xf9-A\\x00v\\x98\\xe6$\\x81\\x04A\\x80\\x17\\xafs\\x97\\xf6-A\\x00\\xf8\\xbdOdt\\x04A\\x00\\xed\\xa0\\xffs\\xf6-A\\x00P\\xc5G\\xb1s\\x04A\\x00\\xa3\\x0f\\x0cp\\xf6-A\\x00\\xc8\\x11\\xc2\\x9ds\\x04A\\x00\\xbd\\x1f\\xfee\\xf6-A\\x00\\xa2\\x19\\x18ls\\x04A\\x00<\\x9a\\x9e\\xf3\\xf5-A\\x00\\xc8o\\x1e7q\\x04A\\x00\\xb3\\xad\\x9a!\\xf5-A\\x00\\xcc=\\x86\\xd3s\\x04A\\x00\\x8d\\xe8D\\x0e\\xf2-A\\x00V\\x0c\\x91\\xa6}\\x04A\\x00\\xf0\\xb1\\x9e\\xae\\xf2-A\\x00\\xe0\\xee\\xb6\\xcf\\x80\\x04A\\x00\\x8d\\xb9\\x9e\\xbc\\xf3-A\\x00L\\xc6P%\\x86\\x04A\\x80\\x0e\\x01\\xe6\\x96\\xf4-A\\x00\\x92%\\xd2]\\x83\\x04A\\x00\\xe3_\\xae\\x16\\xf6-A\\x00\\xb4gC\\xbf\\x8a\\x04A\\x00V-\\xf2\\x1d\\xf9-A\\x00v\\x98\\xe6$\\x81\\x04A'</td>\n",
       "        </tr>\n",
       "    </tbody>\n",
       "</table>"
      ],
      "text/plain": [
       "+----------+---------------+---------------+-----------------------------------------------------------------------------------------------------------------------------------------------------------------------------------------------------------------------------------------------------------------------------------------------------------------------------------------------------------------------------------------------------------------------------------------------------------------------------------------------------------------------------------------------------------------------------------------------------------------------------------------------------------------------------------------------------------------------------------------------------------+\n",
       "| ZONEDIST |   Shape_Leng  |   Shape_Area  |                                                                                                                                                                                                                                                                                                                                                                            geom                                                                                                                                                                                                                                                                                                                                                                           |\n",
       "+----------+---------------+---------------+-----------------------------------------------------------------------------------------------------------------------------------------------------------------------------------------------------------------------------------------------------------------------------------------------------------------------------------------------------------------------------------------------------------------------------------------------------------------------------------------------------------------------------------------------------------------------------------------------------------------------------------------------------------------------------------------------------------------------------------------------------------+\n",
       "|   R4-1   | 2575.57862978 | 372245.385615 | b'\\x02\\x04\\xe0\\x00\\x00\\x00\\x00\\x00r\\x90oI\\xb8\\x89#H\\xf0\\xc8oI\\xfbU$H\\x02\\x00\\x00\\x00\\x01\\x00\\x00\\x00\\r\\x00\\x00\\x00\\x00\\x00\\x00\\x00\\x00V-\\xf2\\x1d\\xf9-A\\x00v\\x98\\xe6$\\x81\\x04A\\x80\\x17\\xafs\\x97\\xf6-A\\x00\\xf8\\xbdOdt\\x04A\\x00\\xed\\xa0\\xffs\\xf6-A\\x00P\\xc5G\\xb1s\\x04A\\x00\\xa3\\x0f\\x0cp\\xf6-A\\x00\\xc8\\x11\\xc2\\x9ds\\x04A\\x00\\xbd\\x1f\\xfee\\xf6-A\\x00\\xa2\\x19\\x18ls\\x04A\\x00<\\x9a\\x9e\\xf3\\xf5-A\\x00\\xc8o\\x1e7q\\x04A\\x00\\xb3\\xad\\x9a!\\xf5-A\\x00\\xcc=\\x86\\xd3s\\x04A\\x00\\x8d\\xe8D\\x0e\\xf2-A\\x00V\\x0c\\x91\\xa6}\\x04A\\x00\\xf0\\xb1\\x9e\\xae\\xf2-A\\x00\\xe0\\xee\\xb6\\xcf\\x80\\x04A\\x00\\x8d\\xb9\\x9e\\xbc\\xf3-A\\x00L\\xc6P%\\x86\\x04A\\x80\\x0e\\x01\\xe6\\x96\\xf4-A\\x00\\x92%\\xd2]\\x83\\x04A\\x00\\xe3_\\xae\\x16\\xf6-A\\x00\\xb4gC\\xbf\\x8a\\x04A\\x00V-\\xf2\\x1d\\xf9-A\\x00v\\x98\\xe6$\\x81\\x04A' |\n",
       "+----------+---------------+---------------+-----------------------------------------------------------------------------------------------------------------------------------------------------------------------------------------------------------------------------------------------------------------------------------------------------------------------------------------------------------------------------------------------------------------------------------------------------------------------------------------------------------------------------------------------------------------------------------------------------------------------------------------------------------------------------------------------------------------------------------------------------------+"
      ]
     },
     "execution_count": 10,
     "metadata": {},
     "output_type": "execute_result"
    }
   ],
   "source": [
    "%%sql \n",
    "SELECT * FROM './zoning/nycgiszoningfeatures_202309shp/nyzd.shp' LIMIT 1"
   ]
  },
  {
   "cell_type": "code",
   "execution_count": 12,
   "metadata": {},
   "outputs": [
    {
     "data": {
      "text/html": [
       "<span style=\"None\">Running query in &#x27;duckdb&#x27;</span>"
      ],
      "text/plain": [
       "Running query in 'duckdb'"
      ]
     },
     "metadata": {},
     "output_type": "display_data"
    },
    {
     "data": {
      "text/html": [
       "<table>\n",
       "    <thead>\n",
       "        <tr>\n",
       "            <th>Count</th>\n",
       "        </tr>\n",
       "    </thead>\n",
       "    <tbody>\n",
       "        <tr>\n",
       "            <td>934047</td>\n",
       "        </tr>\n",
       "    </tbody>\n",
       "</table>"
      ],
      "text/plain": [
       "+--------+\n",
       "| Count  |\n",
       "+--------+\n",
       "| 934047 |\n",
       "+--------+"
      ]
     },
     "execution_count": 12,
     "metadata": {},
     "output_type": "execute_result"
    }
   ],
   "source": [
    "%%sql \n",
    "CREATE TABLE lotzoneper AS\n",
    "SELECT\n",
    "    p.bbl,\n",
    "    n.zonedist,\n",
    "    SUM(ST_AREA(\n",
    "        CASE\n",
    "            WHEN ST_COVEREDBY(p.geom, n.geom) THEN p.geom\n",
    "            ELSE ST_INTERSECTION(p.geom, n.geom)\n",
    "        END\n",
    "    )) AS segbblgeom,\n",
    "    SUM(ST_AREA(\n",
    "        CASE\n",
    "            WHEN ST_COVEREDBY(n.geom, p.geom) THEN n.geom\n",
    "            ELSE ST_INTERSECTION(n.geom, p.geom)\n",
    "        END\n",
    "    )) AS segzonegeom,\n",
    "    SUM(ST_AREA(p.geom)) AS allbblgeom,\n",
    "    SUM(ST_AREA(n.geom)) AS allzonegeom\n",
    "FROM './pluto/MapPLUTO_UNCLIPPED.shp' AS p\n",
    "INNER JOIN './zoning/nycgiszoningfeatures_202309shp/nyzd.shp' AS n \n",
    "    ON ST_INTERSECTS(p.geom, n.geom)\n",
    "GROUP BY ALL"
   ]
  }
 ],
 "metadata": {
  "kernelspec": {
   "display_name": "Python 3",
   "language": "python",
   "name": "python3"
  },
  "language_info": {
   "codemirror_mode": {
    "name": "ipython",
    "version": 3
   },
   "file_extension": ".py",
   "mimetype": "text/x-python",
   "name": "python",
   "nbconvert_exporter": "python",
   "pygments_lexer": "ipython3",
   "version": "3.10.8"
  }
 },
 "nbformat": 4,
 "nbformat_minor": 2
}
